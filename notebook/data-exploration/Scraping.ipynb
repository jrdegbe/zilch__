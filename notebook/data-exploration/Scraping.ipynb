{
 "cells": [
  {
   "attachments": {},
   "cell_type": "markdown",
   "metadata": {},
   "source": [
    "## Web Scrapping\n",
    "Scraping the TFL website: (https://cycling.data.tfl.gov.uk) in order to get the links of the files we are interested in."
   ]
  },
  {
   "cell_type": "code",
   "execution_count": 1,
   "metadata": {},
   "outputs": [
    {
     "name": "stderr",
     "output_type": "stream",
     "text": [
      "/var/folders/j9/57z33pgx66ng5_vmqjhktgz80000gn/T/ipykernel_40314/2190522858.py:12: DeprecationWarning: headless property is deprecated, instead use add_argument('--headless') or add_argument('--headless=new')\n",
      "  options.headless = True\n"
     ]
    },
    {
     "name": "stdout",
     "output_type": "stream",
     "text": [
      "Display 2 items in the dictionary\n",
      "{}\n"
     ]
    }
   ],
   "source": [
    "from bs4 import BeautifulSoup\n",
    "from selenium import webdriver\n",
    "from selenium.webdriver.chrome.service import Service\n",
    "from selenium.webdriver.chrome.options import Options as ChromeOptions\n",
    "from selenium.webdriver.common.by import By\n",
    "from selenium.webdriver.support.ui import WebDriverWait\n",
    "from selenium.webdriver.support import expected_conditions as EC\n",
    "from webdriver_manager.chrome import ChromeDriverManager\n",
    "\n",
    "# Set up Selenium options\n",
    "options = ChromeOptions()\n",
    "options.headless = True\n",
    "\n",
    "# Set up the Selenium service\n",
    "service = Service(ChromeDriverManager().install())\n",
    "\n",
    "# Choose the URL to scrape\n",
    "url = \"https://cycling.data.tfl.gov.uk\"\n",
    "\n",
    "# Create a new instance of the Chrome driver\n",
    "driver = webdriver.Chrome(service=service, options=options)\n",
    "\n",
    "# Navigate to the URL\n",
    "driver.get(url)\n",
    "\n",
    "# Wait until at least a single element of the table exists\n",
    "wait = WebDriverWait(driver, 20)\n",
    "html = wait.until(EC.presence_of_element_located((By.XPATH, '/html/body/div[2]/table/tbody/tr[1]/td[1]')))\n",
    "\n",
    "# Get the page source\n",
    "html_element = driver.page_source\n",
    "\n",
    "# Close the browser\n",
    "driver.quit()\n",
    "\n",
    "# Parse the HTML using BeautifulSoup\n",
    "soup = BeautifulSoup(html_element, \"html.parser\")\n",
    "\n",
    "# Find the relevant files with their links\n",
    "table = soup.find('table')\n",
    "tbody = table.find('tbody')\n",
    "folder_name = \"usage-stats/\"\n",
    "capture_files = False\n",
    "year = 2022\n",
    "filetype = 'csv'\n",
    "extracted_files = {}\n",
    "\n",
    "for row in tbody.find_all('tr'):\n",
    "    columns = row.find_all('td')\n",
    "\n",
    "    if capture_files == False:\n",
    "        col_values = [col.text.strip() for col in columns]\n",
    "\n",
    "        if col_values[0] == folder_name:\n",
    "            capture_files = True\n",
    "            continue\n",
    "\n",
    "    else:\n",
    "        col = columns[0]\n",
    "        filename = col.text.strip()\n",
    "\n",
    "        if not filename.endswith(f'{year}.{filetype}'):\n",
    "            continue\n",
    "\n",
    "        # Extract the date\n",
    "        filename_without_extension = filename.replace(f'.{filetype}', '')\n",
    "        filename_last_date = filename_without_extension.split('-')[-1]\n",
    "        extracted_files[filename_last_date] = col.a['href']\n",
    "\n",
    "print('Display 2 items in the dictionary')\n",
    "print(dict(list(extracted_files.items())[0:2]))"
   ]
  }
 ],
 "metadata": {
  "interpreter": {
   "hash": "916dbcbb3f70747c44a77c7bcd40155683ae19c65e1c03b4aa3499c5328201f1"
  },
  "kernelspec": {
   "display_name": "Python 3.8.10 64-bit",
   "language": "python",
   "name": "python3"
  },
  "language_info": {
   "codemirror_mode": {
    "name": "ipython",
    "version": 3
   },
   "file_extension": ".py",
   "mimetype": "text/x-python",
   "name": "python",
   "nbconvert_exporter": "python",
   "pygments_lexer": "ipython3",
   "version": "3.9.13"
  },
  "orig_nbformat": 4
 },
 "nbformat": 4,
 "nbformat_minor": 2
}
