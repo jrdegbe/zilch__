{
 "cells": [
  {
   "attachments": {},
   "cell_type": "markdown",
   "metadata": {},
   "source": [
    "## Exploration of the dataset\n",
    "The TFL website contains **Santander cycling data** that are structured in different directories.\n",
    "In this notebook, we are going to read a single file as an example of the cycling journey.\n",
    "\n",
    "Additionally, we will also read the **docking stations data** which was found outside the main TFL website. \n",
    "The stations data contains the list of departure and destination stations mentioned in each cycling journey.\n",
    "\n",
    "Our third dataset consists of the **historical weather data** in London over the year of 2021. The data are represented daily with 36 weather attributes. This data was originally retrieved from www.visualcrossing.com website, then stored in Google Drive to allow easy access to it."
   ]
  },
  {
   "cell_type": "code",
   "execution_count": 1,
   "metadata": {},
   "outputs": [],
   "source": [
    "# import packages\n",
    "import pandas as pd\n",
    "import json"
   ]
  },
  {
   "attachments": {},
   "cell_type": "markdown",
   "metadata": {},
   "source": [
    "### Cycling journey data"
   ]
  },
  {
   "cell_type": "code",
   "execution_count": 2,
   "metadata": {},
   "outputs": [
    {
     "name": "stdout",
     "output_type": "stream",
     "text": [
      "--2023-06-25 14:14:01--  https://cycling.data.tfl.gov.uk/usage-stats/252JourneyDataExtract10Feb2021-16Feb2021.csv\n",
      "Resolving cycling.data.tfl.gov.uk (cycling.data.tfl.gov.uk)... 104.16.101.13, 104.16.100.13\n",
      "Connecting to cycling.data.tfl.gov.uk (cycling.data.tfl.gov.uk)|104.16.101.13|:443... connected.\n",
      "HTTP request sent, awaiting response... 200 OK\n",
      "Length: 11036049 (11M) [text/csv]\n",
      "Saving to: 'journey10Feb2021-16Feb2021.csv'\n",
      "\n",
      "journey10Feb2021-16 100%[===================>]  10.52M  42.8MB/s    in 0.2s    \n",
      "\n",
      "2023-06-25 14:14:01 (42.8 MB/s) - 'journey10Feb2021-16Feb2021.csv' saved [11036049/11036049]\n",
      "\n"
     ]
    }
   ],
   "source": [
    "# download an example file\n",
    "!wget https://cycling.data.tfl.gov.uk/usage-stats/252JourneyDataExtract10Feb2021-16Feb2021.csv -O journey10Feb2021-16Feb2021.csv"
   ]
  },
  {
   "cell_type": "code",
   "execution_count": 3,
   "metadata": {},
   "outputs": [
    {
     "data": {
      "text/html": [
       "<div>\n",
       "<style scoped>\n",
       "    .dataframe tbody tr th:only-of-type {\n",
       "        vertical-align: middle;\n",
       "    }\n",
       "\n",
       "    .dataframe tbody tr th {\n",
       "        vertical-align: top;\n",
       "    }\n",
       "\n",
       "    .dataframe thead th {\n",
       "        text-align: right;\n",
       "    }\n",
       "</style>\n",
       "<table border=\"1\" class=\"dataframe\">\n",
       "  <thead>\n",
       "    <tr style=\"text-align: right;\">\n",
       "      <th></th>\n",
       "      <th>Rental Id</th>\n",
       "      <th>Duration</th>\n",
       "      <th>Bike Id</th>\n",
       "      <th>End Date</th>\n",
       "      <th>EndStation Id</th>\n",
       "      <th>EndStation Name</th>\n",
       "      <th>Start Date</th>\n",
       "      <th>StartStation Id</th>\n",
       "      <th>StartStation Name</th>\n",
       "    </tr>\n",
       "  </thead>\n",
       "  <tbody>\n",
       "    <tr>\n",
       "      <th>0</th>\n",
       "      <td>105401285</td>\n",
       "      <td>3360</td>\n",
       "      <td>17497</td>\n",
       "      <td>15/02/2021 20:55</td>\n",
       "      <td>785</td>\n",
       "      <td>Aquatic Centre, Queen Elizabeth Olympic Park</td>\n",
       "      <td>15/02/2021 19:59</td>\n",
       "      <td>785</td>\n",
       "      <td>Aquatic Centre, Queen Elizabeth Olympic Park</td>\n",
       "    </tr>\n",
       "    <tr>\n",
       "      <th>1</th>\n",
       "      <td>105322226</td>\n",
       "      <td>1020</td>\n",
       "      <td>4677</td>\n",
       "      <td>10/02/2021 08:03</td>\n",
       "      <td>194</td>\n",
       "      <td>Hop Exchange, The Borough</td>\n",
       "      <td>10/02/2021 07:46</td>\n",
       "      <td>14</td>\n",
       "      <td>Belgrove Street , King's Cross</td>\n",
       "    </tr>\n",
       "    <tr>\n",
       "      <th>2</th>\n",
       "      <td>105351846</td>\n",
       "      <td>480</td>\n",
       "      <td>18046</td>\n",
       "      <td>12/02/2021 15:26</td>\n",
       "      <td>27</td>\n",
       "      <td>Bouverie Street, Temple</td>\n",
       "      <td>12/02/2021 15:18</td>\n",
       "      <td>196</td>\n",
       "      <td>Union Street, The Borough</td>\n",
       "    </tr>\n",
       "    <tr>\n",
       "      <th>3</th>\n",
       "      <td>105324229</td>\n",
       "      <td>180</td>\n",
       "      <td>19785</td>\n",
       "      <td>10/02/2021 10:46</td>\n",
       "      <td>195</td>\n",
       "      <td>Milroy Walk, South Bank</td>\n",
       "      <td>10/02/2021 10:43</td>\n",
       "      <td>196</td>\n",
       "      <td>Union Street, The Borough</td>\n",
       "    </tr>\n",
       "    <tr>\n",
       "      <th>4</th>\n",
       "      <td>105350696</td>\n",
       "      <td>720</td>\n",
       "      <td>14243</td>\n",
       "      <td>12/02/2021 14:17</td>\n",
       "      <td>274</td>\n",
       "      <td>Warwick Road, Olympia</td>\n",
       "      <td>12/02/2021 14:05</td>\n",
       "      <td>219</td>\n",
       "      <td>Bramham Gardens, Earl's Court</td>\n",
       "    </tr>\n",
       "  </tbody>\n",
       "</table>\n",
       "</div>"
      ],
      "text/plain": [
       "   Rental Id  Duration  Bike Id          End Date  EndStation Id  \\\n",
       "0  105401285      3360    17497  15/02/2021 20:55            785   \n",
       "1  105322226      1020     4677  10/02/2021 08:03            194   \n",
       "2  105351846       480    18046  12/02/2021 15:26             27   \n",
       "3  105324229       180    19785  10/02/2021 10:46            195   \n",
       "4  105350696       720    14243  12/02/2021 14:17            274   \n",
       "\n",
       "                                EndStation Name        Start Date  \\\n",
       "0  Aquatic Centre, Queen Elizabeth Olympic Park  15/02/2021 19:59   \n",
       "1                     Hop Exchange, The Borough  10/02/2021 07:46   \n",
       "2                       Bouverie Street, Temple  12/02/2021 15:18   \n",
       "3                       Milroy Walk, South Bank  10/02/2021 10:43   \n",
       "4                         Warwick Road, Olympia  12/02/2021 14:05   \n",
       "\n",
       "   StartStation Id                             StartStation Name  \n",
       "0              785  Aquatic Centre, Queen Elizabeth Olympic Park  \n",
       "1               14                Belgrove Street , King's Cross  \n",
       "2              196                     Union Street, The Borough  \n",
       "3              196                     Union Street, The Borough  \n",
       "4              219                 Bramham Gardens, Earl's Court  "
      ]
     },
     "execution_count": 3,
     "metadata": {},
     "output_type": "execute_result"
    }
   ],
   "source": [
    "df= pd.read_csv('journey10Feb2021-16Feb2021.csv')\n",
    "df.head()"
   ]
  },
  {
   "cell_type": "code",
   "execution_count": 4,
   "metadata": {},
   "outputs": [
    {
     "data": {
      "text/plain": [
       "(89405, 9)"
      ]
     },
     "execution_count": 4,
     "metadata": {},
     "output_type": "execute_result"
    }
   ],
   "source": [
    "df.shape"
   ]
  },
  {
   "cell_type": "code",
   "execution_count": 5,
   "metadata": {},
   "outputs": [
    {
     "name": "stdout",
     "output_type": "stream",
     "text": [
      "CREATE TABLE \"journey_staging\" (\n",
      "\"Rental Id\" INTEGER,\n",
      "  \"Duration\" INTEGER,\n",
      "  \"Bike Id\" INTEGER,\n",
      "  \"End Date\" TEXT,\n",
      "  \"EndStation Id\" INTEGER,\n",
      "  \"EndStation Name\" TEXT,\n",
      "  \"Start Date\" TEXT,\n",
      "  \"StartStation Id\" INTEGER,\n",
      "  \"StartStation Name\" TEXT,\n",
      "  CONSTRAINT journey_staging_pk PRIMARY KEY (\"Rental Id\")\n",
      ")\n"
     ]
    }
   ],
   "source": [
    "# infer a sql table schema for journey data\n",
    "journey_table= pd.io.sql.get_schema(frame=df, name='journey_staging', keys='Rental Id')\n",
    "print(journey_table)"
   ]
  },
  {
   "attachments": {},
   "cell_type": "markdown",
   "metadata": {},
   "source": [
    "### Docking stations"
   ]
  },
  {
   "cell_type": "code",
   "execution_count": 6,
   "metadata": {},
   "outputs": [
    {
     "name": "stdout",
     "output_type": "stream",
     "text": [
      "--2023-06-25 14:14:02--  https://www.whatdotheyknow.com/request/664717/response/1572474/attach/3/Cycle%20hire%20docking%20stations.csv.txt\n",
      "Resolving www.whatdotheyknow.com (www.whatdotheyknow.com)... 93.93.128.121, 93.93.130.118\n",
      "Connecting to www.whatdotheyknow.com (www.whatdotheyknow.com)|93.93.128.121|:443... connected.\n",
      "HTTP request sent, awaiting response... 200 OK\n",
      "Length: unspecified [text/plain]\n",
      "Saving to: 'stations.csv'\n",
      "\n",
      "stations.csv            [ <=>                ]  57.09K  --.-KB/s    in 0.03s   \n",
      "\n",
      "2023-06-25 14:14:02 (1.89 MB/s) - 'stations.csv' saved [58461]\n",
      "\n"
     ]
    }
   ],
   "source": [
    "!wget https://www.whatdotheyknow.com/request/664717/response/1572474/attach/3/Cycle%20hire%20docking%20stations.csv.txt -O stations.csv"
   ]
  },
  {
   "cell_type": "code",
   "execution_count": 7,
   "metadata": {},
   "outputs": [
    {
     "data": {
      "text/html": [
       "<div>\n",
       "<style scoped>\n",
       "    .dataframe tbody tr th:only-of-type {\n",
       "        vertical-align: middle;\n",
       "    }\n",
       "\n",
       "    .dataframe tbody tr th {\n",
       "        vertical-align: top;\n",
       "    }\n",
       "\n",
       "    .dataframe thead th {\n",
       "        text-align: right;\n",
       "    }\n",
       "</style>\n",
       "<table border=\"1\" class=\"dataframe\">\n",
       "  <thead>\n",
       "    <tr style=\"text-align: right;\">\n",
       "      <th></th>\n",
       "      <th>Station.Id</th>\n",
       "      <th>StationName</th>\n",
       "      <th>longitude</th>\n",
       "      <th>latitude</th>\n",
       "      <th>Easting</th>\n",
       "      <th>Northing</th>\n",
       "    </tr>\n",
       "  </thead>\n",
       "  <tbody>\n",
       "    <tr>\n",
       "      <th>0</th>\n",
       "      <td>1</td>\n",
       "      <td>River Street, Clerkenwell</td>\n",
       "      <td>-0.109971</td>\n",
       "      <td>51.5292</td>\n",
       "      <td>531202.520</td>\n",
       "      <td>182832.020</td>\n",
       "    </tr>\n",
       "    <tr>\n",
       "      <th>1</th>\n",
       "      <td>2</td>\n",
       "      <td>Phillimore Gardens, Kensington</td>\n",
       "      <td>-0.197574</td>\n",
       "      <td>51.4996</td>\n",
       "      <td>525207.070</td>\n",
       "      <td>179391.860</td>\n",
       "    </tr>\n",
       "    <tr>\n",
       "      <th>2</th>\n",
       "      <td>3</td>\n",
       "      <td>Christopher Street, Liverpool Street</td>\n",
       "      <td>-0.084606</td>\n",
       "      <td>51.5213</td>\n",
       "      <td>532984.810</td>\n",
       "      <td>182001.530</td>\n",
       "    </tr>\n",
       "    <tr>\n",
       "      <th>3</th>\n",
       "      <td>4</td>\n",
       "      <td>St. Chad's Street, King's Cross</td>\n",
       "      <td>-0.120974</td>\n",
       "      <td>51.5301</td>\n",
       "      <td>530436.760</td>\n",
       "      <td>182911.990</td>\n",
       "    </tr>\n",
       "    <tr>\n",
       "      <th>4</th>\n",
       "      <td>5</td>\n",
       "      <td>Sedding Street, Sloane Square</td>\n",
       "      <td>-0.156876</td>\n",
       "      <td>51.4931</td>\n",
       "      <td>528051.649</td>\n",
       "      <td>178742.097</td>\n",
       "    </tr>\n",
       "  </tbody>\n",
       "</table>\n",
       "</div>"
      ],
      "text/plain": [
       "   Station.Id                           StationName  longitude  latitude  \\\n",
       "0           1             River Street, Clerkenwell  -0.109971   51.5292   \n",
       "1           2        Phillimore Gardens, Kensington  -0.197574   51.4996   \n",
       "2           3  Christopher Street, Liverpool Street  -0.084606   51.5213   \n",
       "3           4       St. Chad's Street, King's Cross  -0.120974   51.5301   \n",
       "4           5         Sedding Street, Sloane Square  -0.156876   51.4931   \n",
       "\n",
       "      Easting    Northing  \n",
       "0  531202.520  182832.020  \n",
       "1  525207.070  179391.860  \n",
       "2  532984.810  182001.530  \n",
       "3  530436.760  182911.990  \n",
       "4  528051.649  178742.097  "
      ]
     },
     "execution_count": 7,
     "metadata": {},
     "output_type": "execute_result"
    }
   ],
   "source": [
    "df_stations= pd.read_csv('stations.csv')\n",
    "df_stations.head()"
   ]
  },
  {
   "cell_type": "code",
   "execution_count": 8,
   "metadata": {},
   "outputs": [
    {
     "name": "stdout",
     "output_type": "stream",
     "text": [
      "CREATE TABLE \"stations_staging\" (\n",
      "\"Station.Id\" INTEGER,\n",
      "  \"StationName\" TEXT,\n",
      "  \"longitude\" REAL,\n",
      "  \"latitude\" REAL,\n",
      "  \"Easting\" REAL,\n",
      "  \"Northing\" REAL,\n",
      "  CONSTRAINT stations_staging_pk PRIMARY KEY (\"Station.Id\")\n",
      ")\n"
     ]
    }
   ],
   "source": [
    "# infer a sql table schema for stations data\n",
    "stations_table= pd.io.sql.get_schema(frame=df_stations, name='stations_staging', keys='Station.Id')\n",
    "print(stations_table)"
   ]
  },
  {
   "attachments": {},
   "cell_type": "markdown",
   "metadata": {},
   "source": [
    "### Historical weather data in 2021"
   ]
  },
  {
   "cell_type": "code",
   "execution_count": 9,
   "metadata": {},
   "outputs": [
    {
     "name": "stdout",
     "output_type": "stream",
     "text": [
      "--2023-06-25 14:14:02--  https://docs.google.com/uc?export=download&id=13LWAH93xxEvOukCnPhrfXH7rZZq_-mss\n",
      "Resolving docs.google.com (docs.google.com)... 172.217.169.46\n",
      "Connecting to docs.google.com (docs.google.com)|172.217.169.46|:443... connected.\n",
      "HTTP request sent, awaiting response... 303 See Other\n",
      "Location: https://doc-0s-9c-docs.googleusercontent.com/docs/securesc/ha0ro937gcuc7l7deffksulhg5h7mbp1/04gar5sb4pd3au0o2mai4dmi5af7n9oe/1687698825000/11576894146992100236/*/13LWAH93xxEvOukCnPhrfXH7rZZq_-mss?e=download&uuid=0c00f0ad-ece8-4256-9323-2ae486cc3106 [following]\n",
      "Warning: wildcards not supported in HTTP.\n",
      "--2023-06-25 14:14:03--  https://doc-0s-9c-docs.googleusercontent.com/docs/securesc/ha0ro937gcuc7l7deffksulhg5h7mbp1/04gar5sb4pd3au0o2mai4dmi5af7n9oe/1687698825000/11576894146992100236/*/13LWAH93xxEvOukCnPhrfXH7rZZq_-mss?e=download&uuid=0c00f0ad-ece8-4256-9323-2ae486cc3106\n",
      "Resolving doc-0s-9c-docs.googleusercontent.com (doc-0s-9c-docs.googleusercontent.com)... 142.250.187.225\n",
      "Connecting to doc-0s-9c-docs.googleusercontent.com (doc-0s-9c-docs.googleusercontent.com)|142.250.187.225|:443... connected.\n",
      "HTTP request sent, awaiting response... 200 OK\n",
      "Length: 410877 (401K) [application/json]\n",
      "Saving to: 'weather-2021.json'\n",
      "\n",
      "weather-2021.json   100%[===================>] 401.25K   663KB/s    in 0.6s    \n",
      "\n",
      "2023-06-25 14:14:05 (663 KB/s) - 'weather-2021.json' saved [410877/410877]\n",
      "\n"
     ]
    }
   ],
   "source": [
    "!wget --no-check-certificate 'https://docs.google.com/uc?export=download&id=13LWAH93xxEvOukCnPhrfXH7rZZq_-mss' -O weather-2021.json"
   ]
  },
  {
   "cell_type": "code",
   "execution_count": 10,
   "metadata": {},
   "outputs": [
    {
     "name": "stdout",
     "output_type": "stream",
     "text": [
      "{\n",
      "  \"latitude\" : 51.5064,\n",
      "  \"longitude\" : -0.12721,\n",
      "  \"resolvedAddress\" : \"London, England, United Kingdom\",\n",
      "  \"address\" : \"London,UK\",\n",
      "  \"timezone\" : \"Europe/London\",\n",
      "  \"tzoffset\" : 0.0,\n",
      "  \"name\" : \"London,UK\",\n",
      "  \"days\" : [ {\n",
      "    \"datetime\" : \"2021-01-01\",\n",
      "    \"datetimeEpoch\" : 1609459200,\n",
      "    \"tempmax\" : 5.0,\n",
      "    \"tempmin\" : -0.5,\n",
      "    \"temp\" : 2.1,\n",
      "    \"feelslikemax\" : 2.9,\n",
      "    \"feelslikemin\" : -3.6,\n",
      "    \"feelslike\" : -0.2,\n",
      "    \"dew\" : 0.8,\n",
      "    \"humidity\" : 91.03,\n",
      "    \"precip\" : 0.22,\n"
     ]
    }
   ],
   "source": [
    "!head -n 20 weather-2021.json"
   ]
  },
  {
   "cell_type": "code",
   "execution_count": 11,
   "metadata": {},
   "outputs": [
    {
     "data": {
      "text/html": [
       "<div>\n",
       "<style scoped>\n",
       "    .dataframe tbody tr th:only-of-type {\n",
       "        vertical-align: middle;\n",
       "    }\n",
       "\n",
       "    .dataframe tbody tr th {\n",
       "        vertical-align: top;\n",
       "    }\n",
       "\n",
       "    .dataframe thead th {\n",
       "        text-align: right;\n",
       "    }\n",
       "</style>\n",
       "<table border=\"1\" class=\"dataframe\">\n",
       "  <thead>\n",
       "    <tr style=\"text-align: right;\">\n",
       "      <th></th>\n",
       "      <th>datetime</th>\n",
       "      <th>datetimeEpoch</th>\n",
       "      <th>tempmax</th>\n",
       "      <th>tempmin</th>\n",
       "      <th>temp</th>\n",
       "      <th>feelslikemax</th>\n",
       "      <th>feelslikemin</th>\n",
       "      <th>feelslike</th>\n",
       "      <th>dew</th>\n",
       "      <th>humidity</th>\n",
       "      <th>...</th>\n",
       "      <th>sunset</th>\n",
       "      <th>sunsetEpoch</th>\n",
       "      <th>moonphase</th>\n",
       "      <th>conditions</th>\n",
       "      <th>description</th>\n",
       "      <th>icon</th>\n",
       "      <th>stations</th>\n",
       "      <th>source</th>\n",
       "      <th>tzoffset</th>\n",
       "      <th>severerisk</th>\n",
       "    </tr>\n",
       "  </thead>\n",
       "  <tbody>\n",
       "    <tr>\n",
       "      <th>0</th>\n",
       "      <td>2021-01-01</td>\n",
       "      <td>1609459200</td>\n",
       "      <td>5.0</td>\n",
       "      <td>-0.5</td>\n",
       "      <td>2.1</td>\n",
       "      <td>2.9</td>\n",
       "      <td>-3.6</td>\n",
       "      <td>-0.2</td>\n",
       "      <td>0.8</td>\n",
       "      <td>91.03</td>\n",
       "      <td>...</td>\n",
       "      <td>16:02:22</td>\n",
       "      <td>1609516942</td>\n",
       "      <td>0.53</td>\n",
       "      <td>Rain</td>\n",
       "      <td>Clear conditions throughout the day with late ...</td>\n",
       "      <td>rain</td>\n",
       "      <td>[03769099999, 03680099999, D5621, 03672099999,...</td>\n",
       "      <td>obs</td>\n",
       "      <td>NaN</td>\n",
       "      <td>NaN</td>\n",
       "    </tr>\n",
       "    <tr>\n",
       "      <th>1</th>\n",
       "      <td>2021-01-02</td>\n",
       "      <td>1609545600</td>\n",
       "      <td>5.1</td>\n",
       "      <td>1.5</td>\n",
       "      <td>3.8</td>\n",
       "      <td>3.1</td>\n",
       "      <td>-1.5</td>\n",
       "      <td>1.5</td>\n",
       "      <td>1.0</td>\n",
       "      <td>82.51</td>\n",
       "      <td>...</td>\n",
       "      <td>16:03:28</td>\n",
       "      <td>1609603408</td>\n",
       "      <td>0.56</td>\n",
       "      <td>Rain</td>\n",
       "      <td>Clear conditions throughout the day with rain.</td>\n",
       "      <td>rain</td>\n",
       "      <td>[03680099999, D5621, 03672099999, 03781099999,...</td>\n",
       "      <td>obs</td>\n",
       "      <td>NaN</td>\n",
       "      <td>NaN</td>\n",
       "    </tr>\n",
       "    <tr>\n",
       "      <th>2</th>\n",
       "      <td>2021-01-03</td>\n",
       "      <td>1609632000</td>\n",
       "      <td>6.0</td>\n",
       "      <td>1.1</td>\n",
       "      <td>3.8</td>\n",
       "      <td>5.6</td>\n",
       "      <td>-2.5</td>\n",
       "      <td>0.9</td>\n",
       "      <td>1.7</td>\n",
       "      <td>86.02</td>\n",
       "      <td>...</td>\n",
       "      <td>16:04:36</td>\n",
       "      <td>1609689876</td>\n",
       "      <td>0.60</td>\n",
       "      <td>Rain</td>\n",
       "      <td>Clear conditions throughout the day with rain.</td>\n",
       "      <td>rain</td>\n",
       "      <td>[03680099999, D5621, 03672099999, 03781099999,...</td>\n",
       "      <td>obs</td>\n",
       "      <td>NaN</td>\n",
       "      <td>NaN</td>\n",
       "    </tr>\n",
       "    <tr>\n",
       "      <th>3</th>\n",
       "      <td>2021-01-04</td>\n",
       "      <td>1609718400</td>\n",
       "      <td>5.6</td>\n",
       "      <td>3.5</td>\n",
       "      <td>4.3</td>\n",
       "      <td>4.1</td>\n",
       "      <td>-0.7</td>\n",
       "      <td>0.5</td>\n",
       "      <td>1.4</td>\n",
       "      <td>81.43</td>\n",
       "      <td>...</td>\n",
       "      <td>16:05:46</td>\n",
       "      <td>1609776346</td>\n",
       "      <td>0.65</td>\n",
       "      <td>Rain</td>\n",
       "      <td>Clear conditions throughout the day with rain.</td>\n",
       "      <td>rain</td>\n",
       "      <td>[03680099999, D5621, 03672099999, 03781099999,...</td>\n",
       "      <td>obs</td>\n",
       "      <td>NaN</td>\n",
       "      <td>NaN</td>\n",
       "    </tr>\n",
       "    <tr>\n",
       "      <th>4</th>\n",
       "      <td>2021-01-05</td>\n",
       "      <td>1609804800</td>\n",
       "      <td>4.6</td>\n",
       "      <td>2.5</td>\n",
       "      <td>3.7</td>\n",
       "      <td>0.8</td>\n",
       "      <td>-1.8</td>\n",
       "      <td>-0.4</td>\n",
       "      <td>1.0</td>\n",
       "      <td>82.39</td>\n",
       "      <td>...</td>\n",
       "      <td>16:06:59</td>\n",
       "      <td>1609862819</td>\n",
       "      <td>0.70</td>\n",
       "      <td>Rain</td>\n",
       "      <td>Clear conditions throughout the day with rain.</td>\n",
       "      <td>rain</td>\n",
       "      <td>[03680099999, D5621, 03672099999, 03781099999,...</td>\n",
       "      <td>obs</td>\n",
       "      <td>NaN</td>\n",
       "      <td>NaN</td>\n",
       "    </tr>\n",
       "  </tbody>\n",
       "</table>\n",
       "<p>5 rows × 37 columns</p>\n",
       "</div>"
      ],
      "text/plain": [
       "     datetime  datetimeEpoch  tempmax  tempmin  temp  feelslikemax  \\\n",
       "0  2021-01-01     1609459200      5.0     -0.5   2.1           2.9   \n",
       "1  2021-01-02     1609545600      5.1      1.5   3.8           3.1   \n",
       "2  2021-01-03     1609632000      6.0      1.1   3.8           5.6   \n",
       "3  2021-01-04     1609718400      5.6      3.5   4.3           4.1   \n",
       "4  2021-01-05     1609804800      4.6      2.5   3.7           0.8   \n",
       "\n",
       "   feelslikemin  feelslike  dew  humidity  ...    sunset  sunsetEpoch  \\\n",
       "0          -3.6       -0.2  0.8     91.03  ...  16:02:22   1609516942   \n",
       "1          -1.5        1.5  1.0     82.51  ...  16:03:28   1609603408   \n",
       "2          -2.5        0.9  1.7     86.02  ...  16:04:36   1609689876   \n",
       "3          -0.7        0.5  1.4     81.43  ...  16:05:46   1609776346   \n",
       "4          -1.8       -0.4  1.0     82.39  ...  16:06:59   1609862819   \n",
       "\n",
       "   moonphase conditions                                        description  \\\n",
       "0       0.53       Rain  Clear conditions throughout the day with late ...   \n",
       "1       0.56       Rain     Clear conditions throughout the day with rain.   \n",
       "2       0.60       Rain     Clear conditions throughout the day with rain.   \n",
       "3       0.65       Rain     Clear conditions throughout the day with rain.   \n",
       "4       0.70       Rain     Clear conditions throughout the day with rain.   \n",
       "\n",
       "   icon                                           stations  source  tzoffset  \\\n",
       "0  rain  [03769099999, 03680099999, D5621, 03672099999,...     obs       NaN   \n",
       "1  rain  [03680099999, D5621, 03672099999, 03781099999,...     obs       NaN   \n",
       "2  rain  [03680099999, D5621, 03672099999, 03781099999,...     obs       NaN   \n",
       "3  rain  [03680099999, D5621, 03672099999, 03781099999,...     obs       NaN   \n",
       "4  rain  [03680099999, D5621, 03672099999, 03781099999,...     obs       NaN   \n",
       "\n",
       "   severerisk  \n",
       "0         NaN  \n",
       "1         NaN  \n",
       "2         NaN  \n",
       "3         NaN  \n",
       "4         NaN  \n",
       "\n",
       "[5 rows x 37 columns]"
      ]
     },
     "execution_count": 11,
     "metadata": {},
     "output_type": "execute_result"
    }
   ],
   "source": [
    "# we will only extract the day items\n",
    "with open('weather-2021.json', 'r') as f:\n",
    "    weather = json.load(f)\n",
    "\n",
    "df_weather = pd.DataFrame.from_dict(weather[\"days\"])\n",
    "df_weather.head()"
   ]
  },
  {
   "cell_type": "code",
   "execution_count": 12,
   "metadata": {},
   "outputs": [
    {
     "name": "stdout",
     "output_type": "stream",
     "text": [
      "<class 'pandas.core.frame.DataFrame'>\n",
      "RangeIndex: 396 entries, 0 to 395\n",
      "Data columns (total 37 columns):\n",
      " #   Column          Non-Null Count  Dtype  \n",
      "---  ------          --------------  -----  \n",
      " 0   datetime        396 non-null    object \n",
      " 1   datetimeEpoch   396 non-null    int64  \n",
      " 2   tempmax         396 non-null    float64\n",
      " 3   tempmin         396 non-null    float64\n",
      " 4   temp            396 non-null    float64\n",
      " 5   feelslikemax    396 non-null    float64\n",
      " 6   feelslikemin    396 non-null    float64\n",
      " 7   feelslike       396 non-null    float64\n",
      " 8   dew             396 non-null    float64\n",
      " 9   humidity        396 non-null    float64\n",
      " 10  precip          396 non-null    float64\n",
      " 11  precipprob      22 non-null     float64\n",
      " 12  precipcover     374 non-null    float64\n",
      " 13  preciptype      10 non-null     object \n",
      " 14  snow            22 non-null     float64\n",
      " 15  snowdepth       31 non-null     float64\n",
      " 16  windgust        167 non-null    float64\n",
      " 17  windspeed       396 non-null    float64\n",
      " 18  winddir         396 non-null    float64\n",
      " 19  pressure        395 non-null    float64\n",
      " 20  cloudcover      396 non-null    float64\n",
      " 21  visibility      396 non-null    float64\n",
      " 22  solarradiation  396 non-null    float64\n",
      " 23  solarenergy     396 non-null    float64\n",
      " 24  uvindex         396 non-null    float64\n",
      " 25  sunrise         396 non-null    object \n",
      " 26  sunriseEpoch    396 non-null    int64  \n",
      " 27  sunset          396 non-null    object \n",
      " 28  sunsetEpoch     396 non-null    int64  \n",
      " 29  moonphase       396 non-null    float64\n",
      " 30  conditions      396 non-null    object \n",
      " 31  description     396 non-null    object \n",
      " 32  icon            396 non-null    object \n",
      " 33  stations        396 non-null    object \n",
      " 34  source          396 non-null    object \n",
      " 35  tzoffset        217 non-null    float64\n",
      " 36  severerisk      22 non-null     float64\n",
      "dtypes: float64(25), int64(3), object(9)\n",
      "memory usage: 114.6+ KB\n"
     ]
    }
   ],
   "source": [
    "df_weather.info()"
   ]
  },
  {
   "cell_type": "code",
   "execution_count": 13,
   "metadata": {},
   "outputs": [
    {
     "name": "stdout",
     "output_type": "stream",
     "text": [
      "Columns:  Index(['datetime', 'datetimeEpoch', 'tempmax', 'tempmin', 'temp',\n",
      "       'feelslikemax', 'feelslikemin', 'feelslike', 'dew', 'humidity',\n",
      "       'precip', 'precipprob', 'precipcover', 'preciptype', 'snow',\n",
      "       'snowdepth', 'windgust', 'windspeed', 'winddir', 'pressure',\n",
      "       'cloudcover', 'visibility', 'solarradiation', 'solarenergy', 'uvindex',\n",
      "       'sunrise', 'sunriseEpoch', 'sunset', 'sunsetEpoch', 'moonphase',\n",
      "       'conditions', 'description', 'icon', 'stations', 'source', 'tzoffset',\n",
      "       'severerisk'],\n",
      "      dtype='object') \n",
      "Shape:  (396, 37)\n"
     ]
    }
   ],
   "source": [
    "print('Columns: ', df_weather.columns, '\\nShape: ', df_weather.shape)"
   ]
  },
  {
   "cell_type": "code",
   "execution_count": 14,
   "metadata": {},
   "outputs": [
    {
     "name": "stdout",
     "output_type": "stream",
     "text": [
      "CREATE TABLE \"weather_staging\" (\n",
      "\"datetime\" TEXT,\n",
      "  \"datetimeEpoch\" INTEGER,\n",
      "  \"tempmax\" REAL,\n",
      "  \"tempmin\" REAL,\n",
      "  \"temp\" REAL,\n",
      "  \"feelslikemax\" REAL,\n",
      "  \"feelslikemin\" REAL,\n",
      "  \"feelslike\" REAL,\n",
      "  \"dew\" REAL,\n",
      "  \"humidity\" REAL,\n",
      "  \"precip\" REAL,\n",
      "  \"precipprob\" REAL,\n",
      "  \"precipcover\" REAL,\n",
      "  \"preciptype\" TEXT,\n",
      "  \"snow\" REAL,\n",
      "  \"snowdepth\" REAL,\n",
      "  \"windgust\" REAL,\n",
      "  \"windspeed\" REAL,\n",
      "  \"winddir\" REAL,\n",
      "  \"pressure\" REAL,\n",
      "  \"cloudcover\" REAL,\n",
      "  \"visibility\" REAL,\n",
      "  \"solarradiation\" REAL,\n",
      "  \"solarenergy\" REAL,\n",
      "  \"uvindex\" REAL,\n",
      "  \"sunrise\" TEXT,\n",
      "  \"sunriseEpoch\" INTEGER,\n",
      "  \"sunset\" TEXT,\n",
      "  \"sunsetEpoch\" INTEGER,\n",
      "  \"moonphase\" REAL,\n",
      "  \"conditions\" TEXT,\n",
      "  \"description\" TEXT,\n",
      "  \"icon\" TEXT,\n",
      "  \"stations\" TEXT,\n",
      "  \"source\" TEXT,\n",
      "  \"tzoffset\" REAL,\n",
      "  \"severerisk\" REAL,\n",
      "  CONSTRAINT weather_staging_pk PRIMARY KEY (\"datetime\")\n",
      ")\n"
     ]
    }
   ],
   "source": [
    "# infer a sql table schema for weather data\n",
    "weather_table= pd.io.sql.get_schema(frame=df_weather, name='weather_staging', keys='datetime')\n",
    "print(weather_table)"
   ]
  }
 ],
 "metadata": {
  "interpreter": {
   "hash": "916dbcbb3f70747c44a77c7bcd40155683ae19c65e1c03b4aa3499c5328201f1"
  },
  "kernelspec": {
   "display_name": "Python 3.8.10 64-bit",
   "language": "python",
   "name": "python3"
  },
  "language_info": {
   "codemirror_mode": {
    "name": "ipython",
    "version": 3
   },
   "file_extension": ".py",
   "mimetype": "text/x-python",
   "name": "python",
   "nbconvert_exporter": "python",
   "pygments_lexer": "ipython3",
   "version": "3.9.13"
  },
  "orig_nbformat": 4
 },
 "nbformat": 4,
 "nbformat_minor": 2
}
